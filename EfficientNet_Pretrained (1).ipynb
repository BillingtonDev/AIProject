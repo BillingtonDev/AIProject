{
  "cells": [
    {
      "cell_type": "markdown",
      "metadata": {
        "id": "nNVkkIP_ElGz"
      },
      "source": [
        "# Setting Up"
      ]
    },
    {
      "cell_type": "code",
      "execution_count": null,
      "metadata": {
        "id": "gNHLpgWqSTRc"
      },
      "outputs": [],
      "source": [
        "import pandas as pd\n",
        "import numpy as np\n",
        "import tensorflow as tf\n",
        "from tensorflow.keras.preprocessing import image\n",
        "from tensorflow.keras.preprocessing.image import ImageDataGenerator, load_img, img_to_array\n",
        "from tensorflow.keras.applications import EfficientNetB0\n",
        "from tensorflow.keras.applications.efficientnet import preprocess_input, decode_predictions\n",
        "from tensorflow.keras.models import Model, load_model\n",
        "from tensorflow.keras.layers import Dense, Flatten, Dropout\n",
        "from tensorflow.keras.optimizers import Adam\n",
        "from sklearn.model_selection import train_test_split\n",
        "from tensorflow.keras.utils import to_categorical\n",
        "from tensorflow.keras.callbacks import EarlyStopping\n",
        "import os\n",
        "import matplotlib.pyplot as plt\n"
      ]
    },
    {
      "cell_type": "code",
      "execution_count": null,
      "metadata": {
        "colab": {
          "base_uri": "https://localhost:8080/",
          "height": 304
        },
        "id": "FMU5YQcVSf2T",
        "outputId": "6cc0b6f6-5c2f-43e0-fec3-f86230fa3922"
      },
      "outputs": [
        {
          "output_type": "error",
          "ename": "KeyboardInterrupt",
          "evalue": "",
          "traceback": [
            "\u001b[0;31m---------------------------------------------------------------------------\u001b[0m",
            "\u001b[0;31mKeyboardInterrupt\u001b[0m                         Traceback (most recent call last)",
            "\u001b[0;32m<ipython-input-14-d5df0069828e>\u001b[0m in \u001b[0;36m<cell line: 2>\u001b[0;34m()\u001b[0m\n\u001b[1;32m      1\u001b[0m \u001b[0;32mfrom\u001b[0m \u001b[0mgoogle\u001b[0m\u001b[0;34m.\u001b[0m\u001b[0mcolab\u001b[0m \u001b[0;32mimport\u001b[0m \u001b[0mdrive\u001b[0m\u001b[0;34m\u001b[0m\u001b[0;34m\u001b[0m\u001b[0m\n\u001b[0;32m----> 2\u001b[0;31m \u001b[0mdrive\u001b[0m\u001b[0;34m.\u001b[0m\u001b[0mmount\u001b[0m\u001b[0;34m(\u001b[0m\u001b[0;34m'/content/drive'\u001b[0m\u001b[0;34m)\u001b[0m\u001b[0;34m\u001b[0m\u001b[0;34m\u001b[0m\u001b[0m\n\u001b[0m",
            "\u001b[0;32m/usr/local/lib/python3.10/dist-packages/google/colab/drive.py\u001b[0m in \u001b[0;36mmount\u001b[0;34m(mountpoint, force_remount, timeout_ms, readonly)\u001b[0m\n\u001b[1;32m     98\u001b[0m \u001b[0;32mdef\u001b[0m \u001b[0mmount\u001b[0m\u001b[0;34m(\u001b[0m\u001b[0mmountpoint\u001b[0m\u001b[0;34m,\u001b[0m \u001b[0mforce_remount\u001b[0m\u001b[0;34m=\u001b[0m\u001b[0;32mFalse\u001b[0m\u001b[0;34m,\u001b[0m \u001b[0mtimeout_ms\u001b[0m\u001b[0;34m=\u001b[0m\u001b[0;36m120000\u001b[0m\u001b[0;34m,\u001b[0m \u001b[0mreadonly\u001b[0m\u001b[0;34m=\u001b[0m\u001b[0;32mFalse\u001b[0m\u001b[0;34m)\u001b[0m\u001b[0;34m:\u001b[0m\u001b[0;34m\u001b[0m\u001b[0;34m\u001b[0m\u001b[0m\n\u001b[1;32m     99\u001b[0m   \u001b[0;34m\"\"\"Mount your Google Drive at the specified mountpoint path.\"\"\"\u001b[0m\u001b[0;34m\u001b[0m\u001b[0;34m\u001b[0m\u001b[0m\n\u001b[0;32m--> 100\u001b[0;31m   return _mount(\n\u001b[0m\u001b[1;32m    101\u001b[0m       \u001b[0mmountpoint\u001b[0m\u001b[0;34m,\u001b[0m\u001b[0;34m\u001b[0m\u001b[0;34m\u001b[0m\u001b[0m\n\u001b[1;32m    102\u001b[0m       \u001b[0mforce_remount\u001b[0m\u001b[0;34m=\u001b[0m\u001b[0mforce_remount\u001b[0m\u001b[0;34m,\u001b[0m\u001b[0;34m\u001b[0m\u001b[0;34m\u001b[0m\u001b[0m\n",
            "\u001b[0;32m/usr/local/lib/python3.10/dist-packages/google/colab/drive.py\u001b[0m in \u001b[0;36m_mount\u001b[0;34m(mountpoint, force_remount, timeout_ms, ephemeral, readonly)\u001b[0m\n\u001b[1;32m    131\u001b[0m   )\n\u001b[1;32m    132\u001b[0m   \u001b[0;32mif\u001b[0m \u001b[0mephemeral\u001b[0m\u001b[0;34m:\u001b[0m\u001b[0;34m\u001b[0m\u001b[0;34m\u001b[0m\u001b[0m\n\u001b[0;32m--> 133\u001b[0;31m     _message.blocking_request(\n\u001b[0m\u001b[1;32m    134\u001b[0m         \u001b[0;34m'request_auth'\u001b[0m\u001b[0;34m,\u001b[0m\u001b[0;34m\u001b[0m\u001b[0;34m\u001b[0m\u001b[0m\n\u001b[1;32m    135\u001b[0m         \u001b[0mrequest\u001b[0m\u001b[0;34m=\u001b[0m\u001b[0;34m{\u001b[0m\u001b[0;34m'authType'\u001b[0m\u001b[0;34m:\u001b[0m \u001b[0;34m'dfs_ephemeral'\u001b[0m\u001b[0;34m}\u001b[0m\u001b[0;34m,\u001b[0m\u001b[0;34m\u001b[0m\u001b[0;34m\u001b[0m\u001b[0m\n",
            "\u001b[0;32m/usr/local/lib/python3.10/dist-packages/google/colab/_message.py\u001b[0m in \u001b[0;36mblocking_request\u001b[0;34m(request_type, request, timeout_sec, parent)\u001b[0m\n\u001b[1;32m    174\u001b[0m       \u001b[0mrequest_type\u001b[0m\u001b[0;34m,\u001b[0m \u001b[0mrequest\u001b[0m\u001b[0;34m,\u001b[0m \u001b[0mparent\u001b[0m\u001b[0;34m=\u001b[0m\u001b[0mparent\u001b[0m\u001b[0;34m,\u001b[0m \u001b[0mexpect_reply\u001b[0m\u001b[0;34m=\u001b[0m\u001b[0;32mTrue\u001b[0m\u001b[0;34m\u001b[0m\u001b[0;34m\u001b[0m\u001b[0m\n\u001b[1;32m    175\u001b[0m   )\n\u001b[0;32m--> 176\u001b[0;31m   \u001b[0;32mreturn\u001b[0m \u001b[0mread_reply_from_input\u001b[0m\u001b[0;34m(\u001b[0m\u001b[0mrequest_id\u001b[0m\u001b[0;34m,\u001b[0m \u001b[0mtimeout_sec\u001b[0m\u001b[0;34m)\u001b[0m\u001b[0;34m\u001b[0m\u001b[0;34m\u001b[0m\u001b[0m\n\u001b[0m",
            "\u001b[0;32m/usr/local/lib/python3.10/dist-packages/google/colab/_message.py\u001b[0m in \u001b[0;36mread_reply_from_input\u001b[0;34m(message_id, timeout_sec)\u001b[0m\n\u001b[1;32m     94\u001b[0m     \u001b[0mreply\u001b[0m \u001b[0;34m=\u001b[0m \u001b[0m_read_next_input_message\u001b[0m\u001b[0;34m(\u001b[0m\u001b[0;34m)\u001b[0m\u001b[0;34m\u001b[0m\u001b[0;34m\u001b[0m\u001b[0m\n\u001b[1;32m     95\u001b[0m     \u001b[0;32mif\u001b[0m \u001b[0mreply\u001b[0m \u001b[0;34m==\u001b[0m \u001b[0m_NOT_READY\u001b[0m \u001b[0;32mor\u001b[0m \u001b[0;32mnot\u001b[0m \u001b[0misinstance\u001b[0m\u001b[0;34m(\u001b[0m\u001b[0mreply\u001b[0m\u001b[0;34m,\u001b[0m \u001b[0mdict\u001b[0m\u001b[0;34m)\u001b[0m\u001b[0;34m:\u001b[0m\u001b[0;34m\u001b[0m\u001b[0;34m\u001b[0m\u001b[0m\n\u001b[0;32m---> 96\u001b[0;31m       \u001b[0mtime\u001b[0m\u001b[0;34m.\u001b[0m\u001b[0msleep\u001b[0m\u001b[0;34m(\u001b[0m\u001b[0;36m0.025\u001b[0m\u001b[0;34m)\u001b[0m\u001b[0;34m\u001b[0m\u001b[0;34m\u001b[0m\u001b[0m\n\u001b[0m\u001b[1;32m     97\u001b[0m       \u001b[0;32mcontinue\u001b[0m\u001b[0;34m\u001b[0m\u001b[0;34m\u001b[0m\u001b[0m\n\u001b[1;32m     98\u001b[0m     if (\n",
            "\u001b[0;31mKeyboardInterrupt\u001b[0m: "
          ]
        }
      ],
      "source": [
        "from google.colab import drive\n",
        "drive.mount('/content/drive')"
      ]
    },
    {
      "cell_type": "code",
      "execution_count": null,
      "metadata": {
        "id": "1vfeg9VLTDl_"
      },
      "outputs": [],
      "source": [
        "# Set up directory paths\n",
        "base_dir = '/content/drive/MyDrive/AI/Skin Cancer/Skin Cancer'\n",
        "img_path = '/content/drive/MyDrive/AI/Skin Cancer/Skin Cancer/combined_images'\n",
        "metadata_file = '/content/drive/MyDrive/AI/HAM10000_metadata.csv'\n",
        "labels_csv='/content/drive/MyDrive/AI/final_labels_df.csv'\n",
        "\n",
        "labels_df = pd.read_csv(labels_csv)\n",
        "image_paths = labels_df['image_id'].values\n",
        "string_labels = labels_df['dx'].values\n",
        "\n",
        "# Combine the directory path with the filenames\n",
        "image_paths = [os.path.join(img_path, filename) for filename in image_paths]\n",
        "\n",
        "# Map string labels to integers\n",
        "label_mapping = {'not melanoma': 0, 'melanoma': 1}\n",
        "numeric_labels = np.array([label_mapping[label] for label in string_labels])\n",
        "\n",
        "# Encode labels to one-hot vectors\n",
        "labels = to_categorical(numeric_labels, num_classes=2)\n",
        "\n",
        "# Split data into training and testing sets\n",
        "train_paths, test_paths, train_labels, test_labels = train_test_split(image_paths, labels, test_size=0.2, random_state=42)\n",
        "\n",
        "# Parameters\n",
        "img_height, img_width = 224, 224\n",
        "batch_size = 32\n",
        "\n",
        "early_stopping = EarlyStopping(monitor='val_loss', patience=3, restore_best_weights=True)"
      ]
    },
    {
      "cell_type": "code",
      "execution_count": null,
      "metadata": {
        "id": "7iddzB-I4iF2"
      },
      "outputs": [],
      "source": [
        "# Function to load and preprocess images\n",
        "def load_and_preprocess_image(img_path):\n",
        "    if not os.path.exists(img_path):\n",
        "        print(f\"File not found: {img_path}\")\n",
        "    img = load_img(img_path, target_size=(img_height, img_width))\n",
        "    img = img_to_array(img)\n",
        "    img = tf.keras.applications.efficientnet.preprocess_input(img)\n",
        "    return img\n"
      ]
    },
    {
      "cell_type": "code",
      "execution_count": null,
      "metadata": {
        "id": "-PIGcA5S4mvD"
      },
      "outputs": [],
      "source": [
        "def generator(image_paths, labels, batch_size):\n",
        "    while True:\n",
        "        for start in range(0, len(image_paths), batch_size):\n",
        "            end = min(start + batch_size, len(image_paths))\n",
        "            batch_paths = image_paths[start:end]\n",
        "            batch_labels = labels[start:end]\n",
        "            batch_images = np.array([load_and_preprocess_image(img_path) for img_path in batch_paths])\n",
        "            yield batch_images, batch_labels"
      ]
    },
    {
      "cell_type": "markdown",
      "metadata": {
        "id": "OmBV3ZOIExbk"
      },
      "source": [
        "# Train"
      ]
    },
    {
      "cell_type": "code",
      "execution_count": null,
      "metadata": {
        "id": "mAsAE9NC4p7T"
      },
      "outputs": [],
      "source": [
        "train_generator = generator(train_paths, train_labels, batch_size)\n",
        "test_generator = generator(test_paths, test_labels, batch_size)"
      ]
    },
    {
      "cell_type": "code",
      "execution_count": null,
      "metadata": {
        "id": "Lqn5uAe_4smw"
      },
      "outputs": [],
      "source": [
        "base_model = EfficientNetB0(weights='imagenet', include_top=False, input_shape=(img_height, img_width, 3))"
      ]
    },
    {
      "cell_type": "code",
      "execution_count": null,
      "metadata": {
        "id": "cvY5Ohpc4y-7"
      },
      "outputs": [],
      "source": [
        "# Freeze the layers except the last 4 layers\n",
        "for layer in base_model.layers[:-4]:\n",
        "    layer.trainable = False"
      ]
    },
    {
      "cell_type": "code",
      "execution_count": null,
      "metadata": {
        "id": "fR4kwhPD40eA"
      },
      "outputs": [],
      "source": [
        "# Add custom top layers\n",
        "x = base_model.output\n",
        "x = Flatten()(x)\n",
        "x = Dense(512, activation='relu')(x)\n",
        "x = Dropout(0.5)(x)\n",
        "x = Dense(256, activation='relu')(x)\n",
        "x = Dropout(0.5)(x)\n",
        "predictions = Dense(2, activation='softmax')(x)"
      ]
    },
    {
      "cell_type": "code",
      "execution_count": null,
      "metadata": {
        "id": "2QUnjWVJ47Dt"
      },
      "outputs": [],
      "source": [
        "# Create and compile the final model\n",
        "model = Model(inputs=base_model.input, outputs=predictions)\n",
        "model.compile(optimizer=Adam(learning_rate=1e-4), loss='categorical_crossentropy', metrics=['accuracy'])\n",
        "\n",
        "# Train the model\n",
        "steps_per_epoch = len(train_paths) // batch_size\n",
        "validation_steps = len(test_paths) // batch_size"
      ]
    },
    {
      "cell_type": "code",
      "execution_count": null,
      "metadata": {
        "colab": {
          "background_save": true,
          "base_uri": "https://localhost:8080/"
        },
        "id": "uEUSKsMX53QH",
        "outputId": "8edf90fc-5b3c-432f-9095-7b2f4b3642a4"
      },
      "outputs": [
        {
          "name": "stdout",
          "output_type": "stream",
          "text": [
            "Epoch 1/4\n",
            "\u001b[1m445/445\u001b[0m \u001b[32m━━━━━━━━━━━━━━━━━━━━\u001b[0m\u001b[37m\u001b[0m \u001b[1m4712s\u001b[0m 11s/step - accuracy: 0.8466 - loss: 0.5378 - val_accuracy: 0.9231 - val_loss: 0.2144\n",
            "Epoch 2/4\n",
            "\u001b[1m445/445\u001b[0m \u001b[32m━━━━━━━━━━━━━━━━━━━━\u001b[0m\u001b[37m\u001b[0m \u001b[1m2029s\u001b[0m 5s/step - accuracy: 0.9093 - loss: 0.2515 - val_accuracy: 0.9272 - val_loss: 0.2173\n",
            "Epoch 3/4\n",
            "\u001b[1m445/445\u001b[0m \u001b[32m━━━━━━━━━━━━━━━━━━━━\u001b[0m\u001b[37m\u001b[0m \u001b[1m2062s\u001b[0m 5s/step - accuracy: 0.9271 - loss: 0.1983 - val_accuracy: 0.9343 - val_loss: 0.1771\n",
            "Epoch 4/4\n",
            "\u001b[1m445/445\u001b[0m \u001b[32m━━━━━━━━━━━━━━━━━━━━\u001b[0m\u001b[37m\u001b[0m \u001b[1m2141s\u001b[0m 5s/step - accuracy: 0.9402 - loss: 0.1525 - val_accuracy: 0.9371 - val_loss: 0.1620\n"
          ]
        }
      ],
      "source": [
        "model.fit(\n",
        "    train_generator,\n",
        "    steps_per_epoch=steps_per_epoch,\n",
        "    epochs=4,\n",
        "    validation_data=test_generator,\n",
        "    validation_steps=validation_steps,\n",
        "    #callbacks=[early_stopping]\n",
        ")\n",
        "# Save the entire model to a file\n",
        "model.save('/content/drive/MyDrive/AI/efficientnet_melanoma_classifier2.keras')"
      ]
    },
    {
      "cell_type": "code",
      "execution_count": null,
      "metadata": {
        "colab": {
          "background_save": true
        },
        "id": "GUuJnLWwbUXb",
        "outputId": "f57d8115-b07b-4b19-b43b-c2542f3019c3"
      },
      "outputs": [
        {
          "name": "stdout",
          "output_type": "stream",
          "text": [
            "\u001b[1m111/111\u001b[0m \u001b[32m━━━━━━━━━━━━━━━━━━━━\u001b[0m\u001b[37m\u001b[0m \u001b[1m357s\u001b[0m 3s/step - accuracy: 0.9404 - loss: 0.1521\n",
            "Test Loss: 0.16496431827545166\n",
            "Test Accuracy: 0.9362425804138184\n"
          ]
        }
      ],
      "source": [
        "# Evaluate the model\n",
        "loss, accuracy = model.evaluate(test_generator, steps=validation_steps)\n",
        "print(f'Test Loss: {loss}')\n",
        "print(f'Test Accuracy: {accuracy}')"
      ]
    },
    {
      "cell_type": "markdown",
      "metadata": {
        "id": "jfrf5aF4BkYK"
      },
      "source": [
        "# Testing the model with the testing/sample data"
      ]
    },
    {
      "cell_type": "code",
      "execution_count": null,
      "metadata": {
        "id": "YP3Brg7GIUfV"
      },
      "outputs": [],
      "source": [
        "model = tf.keras.models.load_model('/content/drive/MyDrive/AI/efficientnet_melanoma_classifier2.keras')"
      ]
    },
    {
      "cell_type": "code",
      "execution_count": null,
      "metadata": {
        "id": "a6ZO475HGthk"
      },
      "outputs": [],
      "source": [
        "img_paths = [\"ISIC_0024951\", \"ISIC_0030106\", \"ISIC_0031779\", \"ISIC_0028442\", \"ISIC_0031745\", \"ISIC_0031586\", \"ISIC_0031972\", \"ISIC_0030539\"]\n",
        "img_paths2 = [\"ISIC_0027326\", \"ISIC_0030789\", \"ISIC_0027008\", \"ISIC_0028790\", \"ISIC_0028880\", \"ISIC_0025009\", \"ISIC_0033492\", \"ISIC_0030021\"]\n",
        "for i in range(len(img_paths)):\n",
        "  img_paths[i] = \"/content/drive/MyDrive/AI/Skin Cancer/Skin Cancer/\" + img_paths[i] + \".jpg\"\n",
        "  img_paths2[i] = \"/content/drive/MyDrive/AI/Skin Cancer/Skin Cancer/\" + img_paths2[i] + \".jpg\"\n",
        "\n",
        "classification = {v: k for k, v in label_mapping.items()}\n",
        "\n",
        "def preprocess_image(img_path):\n",
        "    img = image.load_img(img_path, target_size=(224, 224))\n",
        "    img_array = image.img_to_array(img)\n",
        "    img_array = np.expand_dims(img_array, axis=0)\n",
        "    img_array = preprocess_input(img_array)\n",
        "    return img_array\n",
        "\n",
        "# Predict\n",
        "print(\"Melanoma images:\")\n",
        "for i in img_paths:\n",
        "  # Preprocess the image\n",
        "  preprocessed_image = preprocess_image(i)\n",
        "  pred = model.predict(preprocessed_image)\n",
        "  print(pred, classification[np.argmax(pred, axis=-1)[0]])\n",
        "\n",
        "print(\"\\nNon-Melanoma images:\")\n",
        "for i in img_paths2:\n",
        "  # Preprocess the image\n",
        "  preprocessed_image = preprocess_image(i)\n",
        "  pred = model.predict(preprocessed_image)\n",
        "  print(pred, classification[np.argmax(pred, axis=-1)[0]])"
      ]
    },
    {
      "cell_type": "markdown",
      "metadata": {
        "id": "-3m9fHx3CIr3"
      },
      "source": [
        "# Plotting"
      ]
    },
    {
      "cell_type": "code",
      "execution_count": null,
      "metadata": {
        "id": "WflmTTOnCK2f"
      },
      "outputs": [],
      "source": [
        "# Manually extracted values\n",
        "epochs = list(range(1, 5))\n",
        "\n",
        "# Accuracy values (old ones commented out)\n",
        "accuracy = [0.8466, 0.9093, 0.9271, 0.9402] #[0.8959, 0.9225, 0.9363, 0.9460, 0.9556, 0.9643, 0.9664, 0.9759, 0.9773, 0.9806]\n",
        "val_accuracy = [0.9231, 0.9272, 0.9343, 0.9371] #[0.9358, 0.9378, 0.9408, 0.9439, 0.9447, 0.9473, 0.9453, 0.9462, 0.9450, 0.9484]\n",
        "\n",
        "# Loss values\n",
        "loss = [0.5378, 0.2515, 0.1983,0.1525] #[0.3608, 0.2373, 0.1740, 0.1453, 0.1177, 0.0943, 0.0859, 0.0676, 0.0622, 0.0502]\n",
        "val_loss = [0.2144, 0.2173, 0.1771,0.162] #[0.1818, 0.1627, 0.1540, 0.1555, 0.1570, 0.1709, 0.1870, 0.1977, 0.1727, 0.1659]"
      ]
    },
    {
      "cell_type": "code",
      "execution_count": null,
      "metadata": {
        "id": "oRAa6JVSMdFC"
      },
      "outputs": [],
      "source": [
        "import matplotlib.pyplot as plt\n",
        "\n",
        "plt.figure(figsize=(12, 4))\n",
        "\n",
        "# Plot Training and Validation Accuracy\n",
        "plt.subplot(1, 2, 1)\n",
        "plt.plot(epochs, accuracy, label='Training Accuracy')\n",
        "plt.plot(epochs, val_accuracy, label='Validation Accuracy')\n",
        "plt.title('Training and Validation Accuracy')\n",
        "plt.xlabel('Epochs')\n",
        "plt.ylabel('Accuracy')\n",
        "plt.legend()\n",
        "\n",
        "# Plot Training and Validation Loss\n",
        "plt.subplot(1, 2, 2)\n",
        "plt.plot(epochs, loss, label='Training Loss')\n",
        "plt.plot(epochs, val_loss, label='Validation Loss')\n",
        "plt.title('Training and Validation Loss')\n",
        "plt.xlabel('Epochs')\n",
        "plt.ylabel('Loss')\n",
        "plt.legend()\n",
        "\n",
        "plt.tight_layout()\n",
        "plt.show()"
      ]
    },
    {
      "cell_type": "code",
      "execution_count": null,
      "metadata": {
        "id": "8Njne2dkYOUl",
        "colab": {
          "base_uri": "https://localhost:8080/"
        },
        "outputId": "66cbec29-27a0-4815-e98b-6c83c56d199a"
      },
      "outputs": [
        {
          "output_type": "stream",
          "name": "stdout",
          "text": [
            "\u001b[1m112/112\u001b[0m \u001b[32m━━━━━━━━━━━━━━━━━━━━\u001b[0m\u001b[37m\u001b[0m \u001b[1m1832s\u001b[0m 16s/step\n"
          ]
        }
      ],
      "source": [
        "batch_size = 32\n",
        "num_test_samples = 3561\n",
        "steps_per_epoch = num_test_samples / batch_size\n",
        "predictions = model.predict(test_generator, steps=112)"
      ]
    },
    {
      "cell_type": "code",
      "execution_count": null,
      "metadata": {
        "id": "GyC6dPkMkoqr"
      },
      "outputs": [],
      "source": [
        "# Convert probabilities to class labels\n",
        "predicted_classes = np.argmax(predictions, axis=1)\n",
        "convert = lambda x : 0 if x[1] == 1. else 1\n",
        "test_labelsconf = list(map(convert, test_labels))"
      ]
    },
    {
      "cell_type": "code",
      "execution_count": null,
      "metadata": {
        "id": "6zZ6HQKARuMX",
        "colab": {
          "base_uri": "https://localhost:8080/",
          "height": 310
        },
        "outputId": "68350ab6-6895-40d8-f9f2-3dae498bec8a"
      },
      "outputs": [
        {
          "output_type": "display_data",
          "data": {
            "text/plain": [
              "<Figure size 200x200 with 1 Axes>"
            ],
            "image/png": "[encoded data removed]"
          },
          "metadata": {}
        }
      ],
      "source": [
        "import itertools\n",
        "from sklearn.metrics import confusion_matrix\n",
        "\n",
        "def plot_confusion_matrix(actual, predicted):\n",
        "\n",
        "    cm = confusion_matrix(actual, predicted)\n",
        "    cm = cm.astype('float') / cm.sum(axis=1)[:, np.newaxis]\n",
        "\n",
        "    plt.figure(figsize=(2,2))\n",
        "    cmap=plt.cm.Blues\n",
        "    plt.imshow(cm, interpolation='nearest', cmap=cmap)\n",
        "    plt.title('Confusion matrix', fontsize=25)\n",
        "\n",
        "    tick_marks = np.arange(2)\n",
        "    classes = ['melanoma', 'not melanoma']\n",
        "    plt.xticks(tick_marks, classes, rotation=25)\n",
        "    plt.yticks(tick_marks, classes)\n",
        "\n",
        "    thresh = cm.max() / 2.\n",
        "    for i, j in itertools.product(range(cm.shape[0]), range(cm.shape[1])):\n",
        "        plt.text(j, i, format(cm[i, j], '.2f'),\n",
        "        horizontalalignment=\"center\",\n",
        "        color=\"black\", fontsize = 14)\n",
        "\n",
        "    plt.ylabel('True label')\n",
        "    plt.xlabel('Predicted label')\n",
        "    plt.show()\n",
        "# Convert to a NumPy array\n",
        "plot_confusion_matrix(test_labelsconf, predicted_classes)"
      ]
    },
    {
      "cell_type": "code",
      "source": [
        "# Calculate ROC Curve and AUC\n",
        "from sklearn.metrics import roc_curve, auc, roc_auc_score\n",
        "fpr, tpr, _ = roc_curve(test_labelsconf, predicted_classes)\n",
        "roc_auc = auc(fpr, tpr)\n",
        "\n",
        "# Plot the ROC Curve\n",
        "plt.figure()\n",
        "plt.plot(fpr, tpr, color='darkorange', lw=2, label='ROC curve (area = %0.2f)' % roc_auc)\n",
        "plt.plot([0, 1], [0, 1], color='navy', lw=2, linestyle='--')\n",
        "plt.xlim([0.0, 1.0])\n",
        "plt.ylim([0.0, 1.05])\n",
        "plt.xlabel('False Positive Rate')\n",
        "plt.ylabel('True Positive Rate')\n",
        "plt.title('Receiver Operating Characteristic')\n",
        "plt.legend(loc=\"lower right\")\n",
        "plt.show()\n"
      ],
      "metadata": {
        "colab": {
          "base_uri": "https://localhost:8080/",
          "height": 472
        },
        "id": "GvoOe33WdbrM",
        "outputId": "5bea1acd-2651-4851-8ff7-3865af7d1d80"
      },
      "execution_count": null,
      "outputs": [
        {
          "output_type": "display_data",
          "data": {
            "text/plain": [
              "<Figure size 640x480 with 1 Axes>"
            ],
            "image/png": "[encoded data removed]"
          },
          "metadata": {}
        }
      ]
    }
  ],
  "metadata": {
    "colab": {
      "provenance": []
    },
    "kernelspec": {
      "display_name": "Python 3",
      "name": "python3"
    },
    "language_info": {
      "name": "python"
    }
  },
  "nbformat": 4,
  "nbformat_minor": 0
}